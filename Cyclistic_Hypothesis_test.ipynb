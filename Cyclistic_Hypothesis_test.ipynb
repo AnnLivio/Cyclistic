{
  "nbformat": 4,
  "nbformat_minor": 0,
  "metadata": {
    "colab": {
      "provenance": [],
      "mount_file_id": "1wjQclFX_pIdjZzKu2Tts0Ns0bgNuvlP5",
      "authorship_tag": "ABX9TyMnEe5lND/g95uVCW7OTNof",
      "include_colab_link": true
    },
    "kernelspec": {
      "name": "python3",
      "display_name": "Python 3"
    },
    "language_info": {
      "name": "python"
    }
  },
  "cells": [
    {
      "cell_type": "markdown",
      "metadata": {
        "id": "view-in-github",
        "colab_type": "text"
      },
      "source": [
        "<a href=\"https://colab.research.google.com/github/AnnLivio/Cyclistic/blob/main/Cyclistic_Hypothesis_test.ipynb\" target=\"_parent\"><img src=\"https://colab.research.google.com/assets/colab-badge.svg\" alt=\"Open In Colab\"/></a>"
      ]
    },
    {
      "cell_type": "markdown",
      "source": [
        "# CYCLISTIC · Hypothesis Test\n",
        "\n",
        "**Cyclistic** es un programa de bicicletas compartidas que incluye 5,800 bicicletas y más de 600 estaciones en Chicago.\n",
        "Uno de los enfoques que ayudó a hacer esto posible fue la flexibilidad de sus planes de precios: `pases de un solo viaje`, `pases de un día completo` y `membresías anuales`. A los clientes que compran pases de un solo viaje o pases de un día completo se los llama ciclistas ocasionales. Los clientes con membresías anuales se llaman miembros de Cyclistic.\n",
        "\n",
        "### Pregunta inicial:\n",
        "¿En qué se diferencian los socios anuales y los ciclistas ocasionales con respecto al uso de las bicicletas de Cyclistic?\n",
        "\n"
      ],
      "metadata": {
        "id": "GMhFb40yY0u2"
      }
    },
    {
      "cell_type": "markdown",
      "source": [
        "## Cargar librerías y paquetes"
      ],
      "metadata": {
        "id": "ngt27qrGZP79"
      }
    },
    {
      "cell_type": "code",
      "source": [
        "#import libraries\n",
        "import pandas as pd\n",
        "import numpy as np\n",
        "\n",
        "import seaborn as sns\n",
        "from scipy import stats\n"
      ],
      "metadata": {
        "id": "lyJHkM1qaqWU"
      },
      "execution_count": null,
      "outputs": []
    },
    {
      "cell_type": "markdown",
      "source": [
        "## Cargar datos para el análisis"
      ],
      "metadata": {
        "id": "tNjyRfC4ZaIs"
      }
    },
    {
      "cell_type": "code",
      "source": [
        "#Load the full dataset\n",
        "df = pd.read_csv(\"/content/drive/MyDrive/Colab Notebooks/Capstone/data/cyclistic_clean_data.csv\")\n"
      ],
      "metadata": {
        "id": "dHrQNp6_bx6M"
      },
      "execution_count": null,
      "outputs": []
    },
    {
      "cell_type": "code",
      "source": [
        "df.info()"
      ],
      "metadata": {
        "colab": {
          "base_uri": "https://localhost:8080/"
        },
        "id": "wO_YHsctCSMr",
        "outputId": "c710016c-4186-449c-9a9c-8dc855c7ef02"
      },
      "execution_count": null,
      "outputs": [
        {
          "output_type": "stream",
          "name": "stdout",
          "text": [
            "<class 'pandas.core.frame.DataFrame'>\n",
            "RangeIndex: 5851552 entries, 0 to 5851551\n",
            "Data columns (total 15 columns):\n",
            " #   Column              Dtype  \n",
            "---  ------              -----  \n",
            " 0   ride_id             object \n",
            " 1   rideable_type       object \n",
            " 2   started_at          object \n",
            " 3   ended_at            object \n",
            " 4   start_station_name  object \n",
            " 5   start_station_id    object \n",
            " 6   end_station_name    object \n",
            " 7   end_station_id      object \n",
            " 8   start_lat           float64\n",
            " 9   start_lng           float64\n",
            " 10  end_lat             float64\n",
            " 11  end_lng             float64\n",
            " 12  member_casual       object \n",
            " 13  ride_lenght         object \n",
            " 14  weekday             object \n",
            "dtypes: float64(4), object(11)\n",
            "memory usage: 669.7+ MB\n"
          ]
        }
      ]
    },
    {
      "cell_type": "markdown",
      "source": [
        "## Seleccionar columnas necesarias"
      ],
      "metadata": {
        "id": "7BahM4YU7zff"
      }
    },
    {
      "cell_type": "code",
      "source": [
        "# Select column of interest\n",
        "my_cols = ['rideable_type', 'start_station_name', 'end_station_name', 'member_casual', 'ride_lenght', 'weekday']\n",
        "df = df[my_cols]\n",
        "df.head()"
      ],
      "metadata": {
        "colab": {
          "base_uri": "https://localhost:8080/",
          "height": 206
        },
        "id": "oH1aN3qH5R3k",
        "outputId": "ab1e7805-73a6-42e9-84ed-66e2cdc2f95d"
      },
      "execution_count": null,
      "outputs": [
        {
          "output_type": "execute_result",
          "data": {
            "text/plain": [
              "   rideable_type                    start_station_name  \\\n",
              "0   classic_bike  Orleans St & Chestnut St (NEXT Apts)   \n",
              "1  electric_bike             Desplaines St & Kinzie St   \n",
              "2  electric_bike  Orleans St & Chestnut St (NEXT Apts)   \n",
              "3   classic_bike             Desplaines St & Kinzie St   \n",
              "4   classic_bike             Desplaines St & Kinzie St   \n",
              "\n",
              "              end_station_name member_casual      ride_lenght    weekday  \n",
              "0  Sheffield Ave & Webster Ave        member  0 days 00:12:53     Sunday  \n",
              "1  Sheffield Ave & Webster Ave        member  0 days 00:12:09  Wednesday  \n",
              "2        Franklin St & Lake St        member  0 days 00:04:20   Thursday  \n",
              "3        Franklin St & Lake St        member  0 days 00:05:26    Tuesday  \n",
              "4        Franklin St & Lake St        member  0 days 00:11:30     Monday  "
            ],
            "text/html": [
              "\n",
              "  <div id=\"df-2dde5b0d-c5a1-418e-91c6-f6b1daa6a721\" class=\"colab-df-container\">\n",
              "    <div>\n",
              "<style scoped>\n",
              "    .dataframe tbody tr th:only-of-type {\n",
              "        vertical-align: middle;\n",
              "    }\n",
              "\n",
              "    .dataframe tbody tr th {\n",
              "        vertical-align: top;\n",
              "    }\n",
              "\n",
              "    .dataframe thead th {\n",
              "        text-align: right;\n",
              "    }\n",
              "</style>\n",
              "<table border=\"1\" class=\"dataframe\">\n",
              "  <thead>\n",
              "    <tr style=\"text-align: right;\">\n",
              "      <th></th>\n",
              "      <th>rideable_type</th>\n",
              "      <th>start_station_name</th>\n",
              "      <th>end_station_name</th>\n",
              "      <th>member_casual</th>\n",
              "      <th>ride_lenght</th>\n",
              "      <th>weekday</th>\n",
              "    </tr>\n",
              "  </thead>\n",
              "  <tbody>\n",
              "    <tr>\n",
              "      <th>0</th>\n",
              "      <td>classic_bike</td>\n",
              "      <td>Orleans St &amp; Chestnut St (NEXT Apts)</td>\n",
              "      <td>Sheffield Ave &amp; Webster Ave</td>\n",
              "      <td>member</td>\n",
              "      <td>0 days 00:12:53</td>\n",
              "      <td>Sunday</td>\n",
              "    </tr>\n",
              "    <tr>\n",
              "      <th>1</th>\n",
              "      <td>electric_bike</td>\n",
              "      <td>Desplaines St &amp; Kinzie St</td>\n",
              "      <td>Sheffield Ave &amp; Webster Ave</td>\n",
              "      <td>member</td>\n",
              "      <td>0 days 00:12:09</td>\n",
              "      <td>Wednesday</td>\n",
              "    </tr>\n",
              "    <tr>\n",
              "      <th>2</th>\n",
              "      <td>electric_bike</td>\n",
              "      <td>Orleans St &amp; Chestnut St (NEXT Apts)</td>\n",
              "      <td>Franklin St &amp; Lake St</td>\n",
              "      <td>member</td>\n",
              "      <td>0 days 00:04:20</td>\n",
              "      <td>Thursday</td>\n",
              "    </tr>\n",
              "    <tr>\n",
              "      <th>3</th>\n",
              "      <td>classic_bike</td>\n",
              "      <td>Desplaines St &amp; Kinzie St</td>\n",
              "      <td>Franklin St &amp; Lake St</td>\n",
              "      <td>member</td>\n",
              "      <td>0 days 00:05:26</td>\n",
              "      <td>Tuesday</td>\n",
              "    </tr>\n",
              "    <tr>\n",
              "      <th>4</th>\n",
              "      <td>classic_bike</td>\n",
              "      <td>Desplaines St &amp; Kinzie St</td>\n",
              "      <td>Franklin St &amp; Lake St</td>\n",
              "      <td>member</td>\n",
              "      <td>0 days 00:11:30</td>\n",
              "      <td>Monday</td>\n",
              "    </tr>\n",
              "  </tbody>\n",
              "</table>\n",
              "</div>\n",
              "    <div class=\"colab-df-buttons\">\n",
              "\n",
              "  <div class=\"colab-df-container\">\n",
              "    <button class=\"colab-df-convert\" onclick=\"convertToInteractive('df-2dde5b0d-c5a1-418e-91c6-f6b1daa6a721')\"\n",
              "            title=\"Convert this dataframe to an interactive table.\"\n",
              "            style=\"display:none;\">\n",
              "\n",
              "  <svg xmlns=\"http://www.w3.org/2000/svg\" height=\"24px\" viewBox=\"0 -960 960 960\">\n",
              "    <path d=\"M120-120v-720h720v720H120Zm60-500h600v-160H180v160Zm220 220h160v-160H400v160Zm0 220h160v-160H400v160ZM180-400h160v-160H180v160Zm440 0h160v-160H620v160ZM180-180h160v-160H180v160Zm440 0h160v-160H620v160Z\"/>\n",
              "  </svg>\n",
              "    </button>\n",
              "\n",
              "  <style>\n",
              "    .colab-df-container {\n",
              "      display:flex;\n",
              "      gap: 12px;\n",
              "    }\n",
              "\n",
              "    .colab-df-convert {\n",
              "      background-color: #E8F0FE;\n",
              "      border: none;\n",
              "      border-radius: 50%;\n",
              "      cursor: pointer;\n",
              "      display: none;\n",
              "      fill: #1967D2;\n",
              "      height: 32px;\n",
              "      padding: 0 0 0 0;\n",
              "      width: 32px;\n",
              "    }\n",
              "\n",
              "    .colab-df-convert:hover {\n",
              "      background-color: #E2EBFA;\n",
              "      box-shadow: 0px 1px 2px rgba(60, 64, 67, 0.3), 0px 1px 3px 1px rgba(60, 64, 67, 0.15);\n",
              "      fill: #174EA6;\n",
              "    }\n",
              "\n",
              "    .colab-df-buttons div {\n",
              "      margin-bottom: 4px;\n",
              "    }\n",
              "\n",
              "    [theme=dark] .colab-df-convert {\n",
              "      background-color: #3B4455;\n",
              "      fill: #D2E3FC;\n",
              "    }\n",
              "\n",
              "    [theme=dark] .colab-df-convert:hover {\n",
              "      background-color: #434B5C;\n",
              "      box-shadow: 0px 1px 3px 1px rgba(0, 0, 0, 0.15);\n",
              "      filter: drop-shadow(0px 1px 2px rgba(0, 0, 0, 0.3));\n",
              "      fill: #FFFFFF;\n",
              "    }\n",
              "  </style>\n",
              "\n",
              "    <script>\n",
              "      const buttonEl =\n",
              "        document.querySelector('#df-2dde5b0d-c5a1-418e-91c6-f6b1daa6a721 button.colab-df-convert');\n",
              "      buttonEl.style.display =\n",
              "        google.colab.kernel.accessAllowed ? 'block' : 'none';\n",
              "\n",
              "      async function convertToInteractive(key) {\n",
              "        const element = document.querySelector('#df-2dde5b0d-c5a1-418e-91c6-f6b1daa6a721');\n",
              "        const dataTable =\n",
              "          await google.colab.kernel.invokeFunction('convertToInteractive',\n",
              "                                                    [key], {});\n",
              "        if (!dataTable) return;\n",
              "\n",
              "        const docLinkHtml = 'Like what you see? Visit the ' +\n",
              "          '<a target=\"_blank\" href=https://colab.research.google.com/notebooks/data_table.ipynb>data table notebook</a>'\n",
              "          + ' to learn more about interactive tables.';\n",
              "        element.innerHTML = '';\n",
              "        dataTable['output_type'] = 'display_data';\n",
              "        await google.colab.output.renderOutput(dataTable, element);\n",
              "        const docLink = document.createElement('div');\n",
              "        docLink.innerHTML = docLinkHtml;\n",
              "        element.appendChild(docLink);\n",
              "      }\n",
              "    </script>\n",
              "  </div>\n",
              "\n",
              "\n",
              "<div id=\"df-2f957f94-54f0-48e1-bb07-1c724a651e0f\">\n",
              "  <button class=\"colab-df-quickchart\" onclick=\"quickchart('df-2f957f94-54f0-48e1-bb07-1c724a651e0f')\"\n",
              "            title=\"Suggest charts\"\n",
              "            style=\"display:none;\">\n",
              "\n",
              "<svg xmlns=\"http://www.w3.org/2000/svg\" height=\"24px\"viewBox=\"0 0 24 24\"\n",
              "     width=\"24px\">\n",
              "    <g>\n",
              "        <path d=\"M19 3H5c-1.1 0-2 .9-2 2v14c0 1.1.9 2 2 2h14c1.1 0 2-.9 2-2V5c0-1.1-.9-2-2-2zM9 17H7v-7h2v7zm4 0h-2V7h2v10zm4 0h-2v-4h2v4z\"/>\n",
              "    </g>\n",
              "</svg>\n",
              "  </button>\n",
              "\n",
              "<style>\n",
              "  .colab-df-quickchart {\n",
              "      --bg-color: #E8F0FE;\n",
              "      --fill-color: #1967D2;\n",
              "      --hover-bg-color: #E2EBFA;\n",
              "      --hover-fill-color: #174EA6;\n",
              "      --disabled-fill-color: #AAA;\n",
              "      --disabled-bg-color: #DDD;\n",
              "  }\n",
              "\n",
              "  [theme=dark] .colab-df-quickchart {\n",
              "      --bg-color: #3B4455;\n",
              "      --fill-color: #D2E3FC;\n",
              "      --hover-bg-color: #434B5C;\n",
              "      --hover-fill-color: #FFFFFF;\n",
              "      --disabled-bg-color: #3B4455;\n",
              "      --disabled-fill-color: #666;\n",
              "  }\n",
              "\n",
              "  .colab-df-quickchart {\n",
              "    background-color: var(--bg-color);\n",
              "    border: none;\n",
              "    border-radius: 50%;\n",
              "    cursor: pointer;\n",
              "    display: none;\n",
              "    fill: var(--fill-color);\n",
              "    height: 32px;\n",
              "    padding: 0;\n",
              "    width: 32px;\n",
              "  }\n",
              "\n",
              "  .colab-df-quickchart:hover {\n",
              "    background-color: var(--hover-bg-color);\n",
              "    box-shadow: 0 1px 2px rgba(60, 64, 67, 0.3), 0 1px 3px 1px rgba(60, 64, 67, 0.15);\n",
              "    fill: var(--button-hover-fill-color);\n",
              "  }\n",
              "\n",
              "  .colab-df-quickchart-complete:disabled,\n",
              "  .colab-df-quickchart-complete:disabled:hover {\n",
              "    background-color: var(--disabled-bg-color);\n",
              "    fill: var(--disabled-fill-color);\n",
              "    box-shadow: none;\n",
              "  }\n",
              "\n",
              "  .colab-df-spinner {\n",
              "    border: 2px solid var(--fill-color);\n",
              "    border-color: transparent;\n",
              "    border-bottom-color: var(--fill-color);\n",
              "    animation:\n",
              "      spin 1s steps(1) infinite;\n",
              "  }\n",
              "\n",
              "  @keyframes spin {\n",
              "    0% {\n",
              "      border-color: transparent;\n",
              "      border-bottom-color: var(--fill-color);\n",
              "      border-left-color: var(--fill-color);\n",
              "    }\n",
              "    20% {\n",
              "      border-color: transparent;\n",
              "      border-left-color: var(--fill-color);\n",
              "      border-top-color: var(--fill-color);\n",
              "    }\n",
              "    30% {\n",
              "      border-color: transparent;\n",
              "      border-left-color: var(--fill-color);\n",
              "      border-top-color: var(--fill-color);\n",
              "      border-right-color: var(--fill-color);\n",
              "    }\n",
              "    40% {\n",
              "      border-color: transparent;\n",
              "      border-right-color: var(--fill-color);\n",
              "      border-top-color: var(--fill-color);\n",
              "    }\n",
              "    60% {\n",
              "      border-color: transparent;\n",
              "      border-right-color: var(--fill-color);\n",
              "    }\n",
              "    80% {\n",
              "      border-color: transparent;\n",
              "      border-right-color: var(--fill-color);\n",
              "      border-bottom-color: var(--fill-color);\n",
              "    }\n",
              "    90% {\n",
              "      border-color: transparent;\n",
              "      border-bottom-color: var(--fill-color);\n",
              "    }\n",
              "  }\n",
              "</style>\n",
              "\n",
              "  <script>\n",
              "    async function quickchart(key) {\n",
              "      const quickchartButtonEl =\n",
              "        document.querySelector('#' + key + ' button');\n",
              "      quickchartButtonEl.disabled = true;  // To prevent multiple clicks.\n",
              "      quickchartButtonEl.classList.add('colab-df-spinner');\n",
              "      try {\n",
              "        const charts = await google.colab.kernel.invokeFunction(\n",
              "            'suggestCharts', [key], {});\n",
              "      } catch (error) {\n",
              "        console.error('Error during call to suggestCharts:', error);\n",
              "      }\n",
              "      quickchartButtonEl.classList.remove('colab-df-spinner');\n",
              "      quickchartButtonEl.classList.add('colab-df-quickchart-complete');\n",
              "    }\n",
              "    (() => {\n",
              "      let quickchartButtonEl =\n",
              "        document.querySelector('#df-2f957f94-54f0-48e1-bb07-1c724a651e0f button');\n",
              "      quickchartButtonEl.style.display =\n",
              "        google.colab.kernel.accessAllowed ? 'block' : 'none';\n",
              "    })();\n",
              "  </script>\n",
              "</div>\n",
              "\n",
              "    </div>\n",
              "  </div>\n"
            ],
            "application/vnd.google.colaboratory.intrinsic+json": {
              "type": "dataframe",
              "variable_name": "df"
            }
          },
          "metadata": {},
          "execution_count": 9
        }
      ]
    },
    {
      "cell_type": "code",
      "source": [
        "df.info()"
      ],
      "metadata": {
        "colab": {
          "base_uri": "https://localhost:8080/"
        },
        "id": "TLCTKGXx8eIQ",
        "outputId": "670f1263-7464-4965-cec9-82609975cf4f"
      },
      "execution_count": null,
      "outputs": [
        {
          "output_type": "stream",
          "name": "stdout",
          "text": [
            "<class 'pandas.core.frame.DataFrame'>\n",
            "RangeIndex: 5851552 entries, 0 to 5851551\n",
            "Data columns (total 6 columns):\n",
            " #   Column              Dtype \n",
            "---  ------              ----- \n",
            " 0   rideable_type       object\n",
            " 1   start_station_name  object\n",
            " 2   end_station_name    object\n",
            " 3   member_casual       object\n",
            " 4   ride_lenght         object\n",
            " 5   weekday             object\n",
            "dtypes: object(6)\n",
            "memory usage: 267.9+ MB\n"
          ]
        }
      ]
    },
    {
      "cell_type": "markdown",
      "source": [
        "## Convertir columnas al tipo correcto\n",
        "\n",
        "`ride_lenght` a *timedelta* y creamos la columna `ride_in_seconds` para posteriores cálculos"
      ],
      "metadata": {
        "id": "VoFlC_qrZ0bU"
      }
    },
    {
      "cell_type": "code",
      "source": [
        "# Convert the 'ride_lenght' to timedelta\n",
        "df['ride_lenght'] = pd.to_timedelta(df['ride_lenght'])"
      ],
      "metadata": {
        "id": "VVrGZJ6Q-cNR"
      },
      "execution_count": null,
      "outputs": []
    },
    {
      "cell_type": "code",
      "source": [
        "# Create column ride_in_seconds\n",
        "df['ride_in_seconds'] = df['ride_lenght'].dt.total_seconds()"
      ],
      "metadata": {
        "id": "VGX-omCvROlR"
      },
      "execution_count": null,
      "outputs": []
    },
    {
      "cell_type": "code",
      "source": [
        "#Create list of weekday in order\n",
        "weekday_order = ['Monday', 'Tuesday', 'Wednesday', 'Thursday', 'Friday', 'Saturday', 'Sunday']\n"
      ],
      "metadata": {
        "id": "pjFUUFrcALxU"
      },
      "execution_count": null,
      "outputs": []
    },
    {
      "cell_type": "markdown",
      "source": [
        "## Dividir dataset en 2 subsets: members y casual"
      ],
      "metadata": {
        "id": "aJg4C68ZaSOf"
      }
    },
    {
      "cell_type": "code",
      "source": [
        "# Group data for members\n",
        "df_members = df.query(\"member_casual == 'member'\")\n",
        "\n",
        "# Group data for casuals\n",
        "df_casual = df.query(\"member_casual == 'casual'\")"
      ],
      "metadata": {
        "id": "fTKTJxrdBiUn"
      },
      "execution_count": null,
      "outputs": []
    },
    {
      "cell_type": "markdown",
      "source": [
        "## Estadísticas para cada grupo"
      ],
      "metadata": {
        "id": "5ZgkHpU_EU2-"
      }
    },
    {
      "cell_type": "code",
      "source": [
        "stats_dict = {}\n",
        "for i in ['members', 'casual']:\n",
        "  # 1. Convert `started_at` and `ended_at` in datetime\n",
        "  exec(f\"median = df_{i}['ride_lenght'].median()\")\n",
        "  exec(f\"max = df_{i}['ride_lenght'].max()\")\n",
        "  exec(f\"min = df_{i}['ride_lenght'].min()\")\n",
        "  exec(f\"mean = df_{i}['ride_lenght'].mean()\")\n",
        "  exec(f\"std = df_{i}['ride_lenght'].std()\")\n",
        "  exec(f\"count = df_{i}['ride_lenght'].count()\")\n",
        "  exec(f\"mode = df_{i}['weekday'].mode()\")\n",
        "  exec(f\"Q1 = df_{i}['ride_lenght'].quantile(0.25)\")\n",
        "  exec(f\"Q3 = df_{i}['ride_lenght'].quantile(0.75)\")\n",
        "\n",
        "  stats_dict[i] = {'median': median, 'mean': mean, 'max': max, 'min': min, 'std':std, 'mode': mode[0], 'count':count, 'Q1':Q1, 'Q3':Q3}\n",
        "\n",
        "stats_df = pd.DataFrame(stats_dict)\n",
        "stats_df\n"
      ],
      "metadata": {
        "colab": {
          "base_uri": "https://localhost:8080/",
          "height": 331
        },
        "id": "qDJh1aD-D3Ig",
        "outputId": "77572b73-d75c-4605-f2d0-aac409aa6d9e"
      },
      "execution_count": null,
      "outputs": [
        {
          "output_type": "execute_result",
          "data": {
            "text/plain": [
              "                          members                     casual\n",
              "median     0 days 00:08:40.467000            0 days 00:12:00\n",
              "mean    0 days 00:12:49.850469939  0 days 00:25:08.303247889\n",
              "max               1 days 01:59:48            1 days 01:59:56\n",
              "min               0 days 00:00:00            0 days 00:00:00\n",
              "std     0 days 00:37:21.164462338  0 days 01:30:05.247969503\n",
              "mode                    Wednesday                   Saturday\n",
              "count                     3721797                    2129755\n",
              "Q1                0 days 00:05:05            0 days 00:06:39\n",
              "Q3                0 days 00:14:46     0 days 00:22:37.929000"
            ],
            "text/html": [
              "\n",
              "  <div id=\"df-2cf0b0ad-e67f-4612-bffd-9f43e2635c4d\" class=\"colab-df-container\">\n",
              "    <div>\n",
              "<style scoped>\n",
              "    .dataframe tbody tr th:only-of-type {\n",
              "        vertical-align: middle;\n",
              "    }\n",
              "\n",
              "    .dataframe tbody tr th {\n",
              "        vertical-align: top;\n",
              "    }\n",
              "\n",
              "    .dataframe thead th {\n",
              "        text-align: right;\n",
              "    }\n",
              "</style>\n",
              "<table border=\"1\" class=\"dataframe\">\n",
              "  <thead>\n",
              "    <tr style=\"text-align: right;\">\n",
              "      <th></th>\n",
              "      <th>members</th>\n",
              "      <th>casual</th>\n",
              "    </tr>\n",
              "  </thead>\n",
              "  <tbody>\n",
              "    <tr>\n",
              "      <th>median</th>\n",
              "      <td>0 days 00:08:40.467000</td>\n",
              "      <td>0 days 00:12:00</td>\n",
              "    </tr>\n",
              "    <tr>\n",
              "      <th>mean</th>\n",
              "      <td>0 days 00:12:49.850469939</td>\n",
              "      <td>0 days 00:25:08.303247889</td>\n",
              "    </tr>\n",
              "    <tr>\n",
              "      <th>max</th>\n",
              "      <td>1 days 01:59:48</td>\n",
              "      <td>1 days 01:59:56</td>\n",
              "    </tr>\n",
              "    <tr>\n",
              "      <th>min</th>\n",
              "      <td>0 days 00:00:00</td>\n",
              "      <td>0 days 00:00:00</td>\n",
              "    </tr>\n",
              "    <tr>\n",
              "      <th>std</th>\n",
              "      <td>0 days 00:37:21.164462338</td>\n",
              "      <td>0 days 01:30:05.247969503</td>\n",
              "    </tr>\n",
              "    <tr>\n",
              "      <th>mode</th>\n",
              "      <td>Wednesday</td>\n",
              "      <td>Saturday</td>\n",
              "    </tr>\n",
              "    <tr>\n",
              "      <th>count</th>\n",
              "      <td>3721797</td>\n",
              "      <td>2129755</td>\n",
              "    </tr>\n",
              "    <tr>\n",
              "      <th>Q1</th>\n",
              "      <td>0 days 00:05:05</td>\n",
              "      <td>0 days 00:06:39</td>\n",
              "    </tr>\n",
              "    <tr>\n",
              "      <th>Q3</th>\n",
              "      <td>0 days 00:14:46</td>\n",
              "      <td>0 days 00:22:37.929000</td>\n",
              "    </tr>\n",
              "  </tbody>\n",
              "</table>\n",
              "</div>\n",
              "    <div class=\"colab-df-buttons\">\n",
              "\n",
              "  <div class=\"colab-df-container\">\n",
              "    <button class=\"colab-df-convert\" onclick=\"convertToInteractive('df-2cf0b0ad-e67f-4612-bffd-9f43e2635c4d')\"\n",
              "            title=\"Convert this dataframe to an interactive table.\"\n",
              "            style=\"display:none;\">\n",
              "\n",
              "  <svg xmlns=\"http://www.w3.org/2000/svg\" height=\"24px\" viewBox=\"0 -960 960 960\">\n",
              "    <path d=\"M120-120v-720h720v720H120Zm60-500h600v-160H180v160Zm220 220h160v-160H400v160Zm0 220h160v-160H400v160ZM180-400h160v-160H180v160Zm440 0h160v-160H620v160ZM180-180h160v-160H180v160Zm440 0h160v-160H620v160Z\"/>\n",
              "  </svg>\n",
              "    </button>\n",
              "\n",
              "  <style>\n",
              "    .colab-df-container {\n",
              "      display:flex;\n",
              "      gap: 12px;\n",
              "    }\n",
              "\n",
              "    .colab-df-convert {\n",
              "      background-color: #E8F0FE;\n",
              "      border: none;\n",
              "      border-radius: 50%;\n",
              "      cursor: pointer;\n",
              "      display: none;\n",
              "      fill: #1967D2;\n",
              "      height: 32px;\n",
              "      padding: 0 0 0 0;\n",
              "      width: 32px;\n",
              "    }\n",
              "\n",
              "    .colab-df-convert:hover {\n",
              "      background-color: #E2EBFA;\n",
              "      box-shadow: 0px 1px 2px rgba(60, 64, 67, 0.3), 0px 1px 3px 1px rgba(60, 64, 67, 0.15);\n",
              "      fill: #174EA6;\n",
              "    }\n",
              "\n",
              "    .colab-df-buttons div {\n",
              "      margin-bottom: 4px;\n",
              "    }\n",
              "\n",
              "    [theme=dark] .colab-df-convert {\n",
              "      background-color: #3B4455;\n",
              "      fill: #D2E3FC;\n",
              "    }\n",
              "\n",
              "    [theme=dark] .colab-df-convert:hover {\n",
              "      background-color: #434B5C;\n",
              "      box-shadow: 0px 1px 3px 1px rgba(0, 0, 0, 0.15);\n",
              "      filter: drop-shadow(0px 1px 2px rgba(0, 0, 0, 0.3));\n",
              "      fill: #FFFFFF;\n",
              "    }\n",
              "  </style>\n",
              "\n",
              "    <script>\n",
              "      const buttonEl =\n",
              "        document.querySelector('#df-2cf0b0ad-e67f-4612-bffd-9f43e2635c4d button.colab-df-convert');\n",
              "      buttonEl.style.display =\n",
              "        google.colab.kernel.accessAllowed ? 'block' : 'none';\n",
              "\n",
              "      async function convertToInteractive(key) {\n",
              "        const element = document.querySelector('#df-2cf0b0ad-e67f-4612-bffd-9f43e2635c4d');\n",
              "        const dataTable =\n",
              "          await google.colab.kernel.invokeFunction('convertToInteractive',\n",
              "                                                    [key], {});\n",
              "        if (!dataTable) return;\n",
              "\n",
              "        const docLinkHtml = 'Like what you see? Visit the ' +\n",
              "          '<a target=\"_blank\" href=https://colab.research.google.com/notebooks/data_table.ipynb>data table notebook</a>'\n",
              "          + ' to learn more about interactive tables.';\n",
              "        element.innerHTML = '';\n",
              "        dataTable['output_type'] = 'display_data';\n",
              "        await google.colab.output.renderOutput(dataTable, element);\n",
              "        const docLink = document.createElement('div');\n",
              "        docLink.innerHTML = docLinkHtml;\n",
              "        element.appendChild(docLink);\n",
              "      }\n",
              "    </script>\n",
              "  </div>\n",
              "\n",
              "\n",
              "<div id=\"df-d0c5adaf-6c75-4808-ae53-7d9754565942\">\n",
              "  <button class=\"colab-df-quickchart\" onclick=\"quickchart('df-d0c5adaf-6c75-4808-ae53-7d9754565942')\"\n",
              "            title=\"Suggest charts\"\n",
              "            style=\"display:none;\">\n",
              "\n",
              "<svg xmlns=\"http://www.w3.org/2000/svg\" height=\"24px\"viewBox=\"0 0 24 24\"\n",
              "     width=\"24px\">\n",
              "    <g>\n",
              "        <path d=\"M19 3H5c-1.1 0-2 .9-2 2v14c0 1.1.9 2 2 2h14c1.1 0 2-.9 2-2V5c0-1.1-.9-2-2-2zM9 17H7v-7h2v7zm4 0h-2V7h2v10zm4 0h-2v-4h2v4z\"/>\n",
              "    </g>\n",
              "</svg>\n",
              "  </button>\n",
              "\n",
              "<style>\n",
              "  .colab-df-quickchart {\n",
              "      --bg-color: #E8F0FE;\n",
              "      --fill-color: #1967D2;\n",
              "      --hover-bg-color: #E2EBFA;\n",
              "      --hover-fill-color: #174EA6;\n",
              "      --disabled-fill-color: #AAA;\n",
              "      --disabled-bg-color: #DDD;\n",
              "  }\n",
              "\n",
              "  [theme=dark] .colab-df-quickchart {\n",
              "      --bg-color: #3B4455;\n",
              "      --fill-color: #D2E3FC;\n",
              "      --hover-bg-color: #434B5C;\n",
              "      --hover-fill-color: #FFFFFF;\n",
              "      --disabled-bg-color: #3B4455;\n",
              "      --disabled-fill-color: #666;\n",
              "  }\n",
              "\n",
              "  .colab-df-quickchart {\n",
              "    background-color: var(--bg-color);\n",
              "    border: none;\n",
              "    border-radius: 50%;\n",
              "    cursor: pointer;\n",
              "    display: none;\n",
              "    fill: var(--fill-color);\n",
              "    height: 32px;\n",
              "    padding: 0;\n",
              "    width: 32px;\n",
              "  }\n",
              "\n",
              "  .colab-df-quickchart:hover {\n",
              "    background-color: var(--hover-bg-color);\n",
              "    box-shadow: 0 1px 2px rgba(60, 64, 67, 0.3), 0 1px 3px 1px rgba(60, 64, 67, 0.15);\n",
              "    fill: var(--button-hover-fill-color);\n",
              "  }\n",
              "\n",
              "  .colab-df-quickchart-complete:disabled,\n",
              "  .colab-df-quickchart-complete:disabled:hover {\n",
              "    background-color: var(--disabled-bg-color);\n",
              "    fill: var(--disabled-fill-color);\n",
              "    box-shadow: none;\n",
              "  }\n",
              "\n",
              "  .colab-df-spinner {\n",
              "    border: 2px solid var(--fill-color);\n",
              "    border-color: transparent;\n",
              "    border-bottom-color: var(--fill-color);\n",
              "    animation:\n",
              "      spin 1s steps(1) infinite;\n",
              "  }\n",
              "\n",
              "  @keyframes spin {\n",
              "    0% {\n",
              "      border-color: transparent;\n",
              "      border-bottom-color: var(--fill-color);\n",
              "      border-left-color: var(--fill-color);\n",
              "    }\n",
              "    20% {\n",
              "      border-color: transparent;\n",
              "      border-left-color: var(--fill-color);\n",
              "      border-top-color: var(--fill-color);\n",
              "    }\n",
              "    30% {\n",
              "      border-color: transparent;\n",
              "      border-left-color: var(--fill-color);\n",
              "      border-top-color: var(--fill-color);\n",
              "      border-right-color: var(--fill-color);\n",
              "    }\n",
              "    40% {\n",
              "      border-color: transparent;\n",
              "      border-right-color: var(--fill-color);\n",
              "      border-top-color: var(--fill-color);\n",
              "    }\n",
              "    60% {\n",
              "      border-color: transparent;\n",
              "      border-right-color: var(--fill-color);\n",
              "    }\n",
              "    80% {\n",
              "      border-color: transparent;\n",
              "      border-right-color: var(--fill-color);\n",
              "      border-bottom-color: var(--fill-color);\n",
              "    }\n",
              "    90% {\n",
              "      border-color: transparent;\n",
              "      border-bottom-color: var(--fill-color);\n",
              "    }\n",
              "  }\n",
              "</style>\n",
              "\n",
              "  <script>\n",
              "    async function quickchart(key) {\n",
              "      const quickchartButtonEl =\n",
              "        document.querySelector('#' + key + ' button');\n",
              "      quickchartButtonEl.disabled = true;  // To prevent multiple clicks.\n",
              "      quickchartButtonEl.classList.add('colab-df-spinner');\n",
              "      try {\n",
              "        const charts = await google.colab.kernel.invokeFunction(\n",
              "            'suggestCharts', [key], {});\n",
              "      } catch (error) {\n",
              "        console.error('Error during call to suggestCharts:', error);\n",
              "      }\n",
              "      quickchartButtonEl.classList.remove('colab-df-spinner');\n",
              "      quickchartButtonEl.classList.add('colab-df-quickchart-complete');\n",
              "    }\n",
              "    (() => {\n",
              "      let quickchartButtonEl =\n",
              "        document.querySelector('#df-d0c5adaf-6c75-4808-ae53-7d9754565942 button');\n",
              "      quickchartButtonEl.style.display =\n",
              "        google.colab.kernel.accessAllowed ? 'block' : 'none';\n",
              "    })();\n",
              "  </script>\n",
              "</div>\n",
              "\n",
              "  <div id=\"id_f28b7e39-276b-4953-b62a-11a67f410fc0\">\n",
              "    <style>\n",
              "      .colab-df-generate {\n",
              "        background-color: #E8F0FE;\n",
              "        border: none;\n",
              "        border-radius: 50%;\n",
              "        cursor: pointer;\n",
              "        display: none;\n",
              "        fill: #1967D2;\n",
              "        height: 32px;\n",
              "        padding: 0 0 0 0;\n",
              "        width: 32px;\n",
              "      }\n",
              "\n",
              "      .colab-df-generate:hover {\n",
              "        background-color: #E2EBFA;\n",
              "        box-shadow: 0px 1px 2px rgba(60, 64, 67, 0.3), 0px 1px 3px 1px rgba(60, 64, 67, 0.15);\n",
              "        fill: #174EA6;\n",
              "      }\n",
              "\n",
              "      [theme=dark] .colab-df-generate {\n",
              "        background-color: #3B4455;\n",
              "        fill: #D2E3FC;\n",
              "      }\n",
              "\n",
              "      [theme=dark] .colab-df-generate:hover {\n",
              "        background-color: #434B5C;\n",
              "        box-shadow: 0px 1px 3px 1px rgba(0, 0, 0, 0.15);\n",
              "        filter: drop-shadow(0px 1px 2px rgba(0, 0, 0, 0.3));\n",
              "        fill: #FFFFFF;\n",
              "      }\n",
              "    </style>\n",
              "    <button class=\"colab-df-generate\" onclick=\"generateWithVariable('stats_df')\"\n",
              "            title=\"Generate code using this dataframe.\"\n",
              "            style=\"display:none;\">\n",
              "\n",
              "  <svg xmlns=\"http://www.w3.org/2000/svg\" height=\"24px\"viewBox=\"0 0 24 24\"\n",
              "       width=\"24px\">\n",
              "    <path d=\"M7,19H8.4L18.45,9,17,7.55,7,17.6ZM5,21V16.75L18.45,3.32a2,2,0,0,1,2.83,0l1.4,1.43a1.91,1.91,0,0,1,.58,1.4,1.91,1.91,0,0,1-.58,1.4L9.25,21ZM18.45,9,17,7.55Zm-12,3A5.31,5.31,0,0,0,4.9,8.1,5.31,5.31,0,0,0,1,6.5,5.31,5.31,0,0,0,4.9,4.9,5.31,5.31,0,0,0,6.5,1,5.31,5.31,0,0,0,8.1,4.9,5.31,5.31,0,0,0,12,6.5,5.46,5.46,0,0,0,6.5,12Z\"/>\n",
              "  </svg>\n",
              "    </button>\n",
              "    <script>\n",
              "      (() => {\n",
              "      const buttonEl =\n",
              "        document.querySelector('#id_f28b7e39-276b-4953-b62a-11a67f410fc0 button.colab-df-generate');\n",
              "      buttonEl.style.display =\n",
              "        google.colab.kernel.accessAllowed ? 'block' : 'none';\n",
              "\n",
              "      buttonEl.onclick = () => {\n",
              "        google.colab.notebook.generateWithVariable('stats_df');\n",
              "      }\n",
              "      })();\n",
              "    </script>\n",
              "  </div>\n",
              "\n",
              "    </div>\n",
              "  </div>\n"
            ],
            "application/vnd.google.colaboratory.intrinsic+json": {
              "type": "dataframe",
              "variable_name": "stats_df",
              "summary": "{\n  \"name\": \"stats_df\",\n  \"rows\": 9,\n  \"fields\": [\n    {\n      \"column\": \"members\",\n      \"properties\": {\n        \"dtype\": \"string\",\n        \"num_unique_values\": 9,\n        \"samples\": [\n          \"0 days 00:05:05\",\n          \"0 days 00:12:49.850469939\",\n          \"Wednesday\"\n        ],\n        \"semantic_type\": \"\",\n        \"description\": \"\"\n      }\n    },\n    {\n      \"column\": \"casual\",\n      \"properties\": {\n        \"dtype\": \"string\",\n        \"num_unique_values\": 9,\n        \"samples\": [\n          \"0 days 00:06:39\",\n          \"0 days 00:25:08.303247889\",\n          \"Saturday\"\n        ],\n        \"semantic_type\": \"\",\n        \"description\": \"\"\n      }\n    }\n  ]\n}"
            }
          },
          "metadata": {},
          "execution_count": 17
        }
      ]
    },
    {
      "cell_type": "markdown",
      "source": [
        "## Miembros de Cyclistic: viajes por día de la semana"
      ],
      "metadata": {
        "id": "XhnIwvFKavds"
      }
    },
    {
      "cell_type": "code",
      "source": [
        "sns.boxplot(x=df_members[\"weekday\"],y=df_members[\"ride_lenght\"], order=weekday_order, showfliers=False, color='#b0dd60');"
      ],
      "metadata": {
        "colab": {
          "base_uri": "https://localhost:8080/",
          "height": 465
        },
        "id": "KatJn3tZBvBN",
        "outputId": "dd291421-43c7-4624-8d91-d4ecf0bc27e0"
      },
      "execution_count": null,
      "outputs": [
        {
          "output_type": "display_data",
          "data": {
            "text/plain": [
              "<Figure size 640x480 with 1 Axes>"
            ],
            "image/png": "[encoded data removed]"
          },
          "metadata": {}
        }
      ]
    },
    {
      "cell_type": "markdown",
      "source": [
        "## Ocasionales: viajes por día de la semana"
      ],
      "metadata": {
        "id": "9fhLSAXla_jQ"
      }
    },
    {
      "cell_type": "code",
      "source": [
        "sns.boxplot(x=df_casual[\"weekday\"],y=df_casual[\"ride_lenght\"], order=weekday_order, showfliers=False, color='#908585');"
      ],
      "metadata": {
        "colab": {
          "base_uri": "https://localhost:8080/",
          "height": 465
        },
        "id": "EMPiojRBCTFa",
        "outputId": "b27931a8-ebf0-4114-a1b8-a0991b04c6d2"
      },
      "execution_count": null,
      "outputs": [
        {
          "output_type": "display_data",
          "data": {
            "text/plain": [
              "<Figure size 640x480 with 1 Axes>"
            ],
            "image/png": "[encoded data removed]"
          },
          "metadata": {}
        }
      ]
    },
    {
      "cell_type": "code",
      "source": [
        "sns.boxplot(x=df[\"member_casual\"], y=df[\"ride_in_seconds\"], showfliers=False)"
      ],
      "metadata": {
        "colab": {
          "base_uri": "https://localhost:8080/",
          "height": 467
        },
        "id": "v-K5fcXBJhSE",
        "outputId": "2df556c2-5720-4fba-9c85-7ef47f52ec0c"
      },
      "execution_count": null,
      "outputs": [
        {
          "output_type": "execute_result",
          "data": {
            "text/plain": [
              "<Axes: xlabel='member_casual', ylabel='ride_in_seconds'>"
            ]
          },
          "metadata": {},
          "execution_count": 19
        },
        {
          "output_type": "display_data",
          "data": {
            "text/plain": [
              "<Figure size 640x480 with 1 Axes>"
            ],
            "image/png": "[encoded data removed]"
          },
          "metadata": {}
        }
      ]
    },
    {
      "cell_type": "markdown",
      "source": [
        "## Test de Hipótesis"
      ],
      "metadata": {
        "id": "0PlvycdJg3CJ"
      }
    },
    {
      "cell_type": "code",
      "source": [
        "sample_members = df_members.sample(n=1000, random_state=1234, replace=True)\n",
        "sample_casual = df_casual.sample(n=1000, random_state=1320, replace=True)"
      ],
      "metadata": {
        "id": "fn-DItyuWEUv"
      },
      "execution_count": null,
      "outputs": []
    },
    {
      "cell_type": "markdown",
      "source": [
        "## **Hipótesis 1 / Hypothesis 1**\n",
        "\n",
        "$H_0$: No hay diferencia en el promedio de duración de los viajes entre miembros y ocasionales / There is no difference in average time of rides between member and casual users.\n",
        "\n",
        "$H_A$: Hay diferencia en el promedio de duración de los viajes entre ambos grupos / There is a difference in average time of rides between member and casual users."
      ],
      "metadata": {
        "id": "mtE-86X6NZus"
      }
    },
    {
      "cell_type": "code",
      "source": [
        "# 3. Perform the t-test\n",
        "tstats, pvalue = stats.ttest_ind(a=sample_members['ride_in_seconds'], b=sample_casual['ride_in_seconds'], equal_var=False)\n",
        "\n",
        "if pvalue < 0.05:\n",
        "  print(\"Reject the null hypothesis, p-value= \", pvalue)\n",
        "else:\n",
        "  print(\"Fail to reject the null hypothesis, p-value= \", pvalue)"
      ],
      "metadata": {
        "colab": {
          "base_uri": "https://localhost:8080/"
        },
        "id": "gmqqdhTeNZEy",
        "outputId": "054d22f9-208a-4a74-cf04-5dfffd38d5fc"
      },
      "execution_count": null,
      "outputs": [
        {
          "output_type": "stream",
          "name": "stdout",
          "text": [
            "Reject the null hypothesis, p-value=  3.611035480563914e-08\n"
          ]
        }
      ]
    },
    {
      "cell_type": "markdown",
      "source": [
        "\n",
        "### **Hipótesis 2:**\n",
        "\n",
        "$H_0$: The mean time of casual's rides is less or equal to AVG time of member's rides.\n",
        "\n",
        "$H_A$: The mean time of casual's rides is greater than AVG time of member's rides."
      ],
      "metadata": {
        "id": "fkW5DySCNsHZ"
      }
    },
    {
      "cell_type": "code",
      "source": [
        "# 3. Perform the t-test\n",
        "tstats, pvalue = stats.ttest_ind(a=sample_casual['ride_in_seconds'], b=sample_members['ride_in_seconds'], alternative='greater')\n",
        "\n",
        "if pvalue < 0.05:\n",
        "  print(\"Reject the null hypothesis, p-value= \", pvalue)\n",
        "else:\n",
        "  print(\"Fail to reject the null hypothesis, p-value= \", pvalue)"
      ],
      "metadata": {
        "colab": {
          "base_uri": "https://localhost:8080/"
        },
        "id": "4RSQps3dLsZy",
        "outputId": "dc66ac18-8da9-4c3f-b8a2-fc612c7ebdb5"
      },
      "execution_count": null,
      "outputs": [
        {
          "output_type": "stream",
          "name": "stdout",
          "text": [
            "Reject the null hypothesis, p-value=  1.633468218200757e-08\n"
          ]
        }
      ]
    },
    {
      "cell_type": "code",
      "source": [],
      "metadata": {
        "id": "yl_iOLQxQUm4"
      },
      "execution_count": null,
      "outputs": []
    }
  ]
}